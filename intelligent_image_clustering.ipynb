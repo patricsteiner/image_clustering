{
 "cells": [
  {
   "cell_type": "markdown",
   "metadata": {},
   "source": [
    "# Create dataset"
   ]
  },
  {
   "cell_type": "code",
   "execution_count": 42,
   "metadata": {},
   "outputs": [
    {
     "name": "stdout",
     "output_type": "stream",
     "text": [
      "prepared 243 images\n"
     ]
    }
   ],
   "source": [
    "from PIL import Image\n",
    "import glob\n",
    "import os.path\n",
    "\n",
    "base_dir = 'd:/clustering/' # images are expected to be in subfolders of this folder (no nested subfolders)\n",
    "resized_suffix = '_resized'\n",
    "\n",
    "size = (240, 240)\n",
    "images = []\n",
    "for filename in glob.glob(base_dir + '*/*.jpg'):\n",
    "    if resized_suffix in filename: continue # make sure we don't process the files we already resized\n",
    "    resized_filename = os.path.splitext(filename)[0] + resized_suffix + '.jpg'\n",
    "    if not os.path.isfile(resized_filename):\n",
    "        image = Image.open(filename)\n",
    "        image.thumbnail(size, Image.ANTIALIAS)\n",
    "        image.save(resized_filename, \"JPEG\")\n",
    "    images.append(Image.open(resized_filename))\n",
    "\n",
    "print(\"prepared \" + str(len(images)) + \" images\")"
   ]
  },
  {
   "cell_type": "markdown",
   "metadata": {},
   "source": [
    "# Extract Features"
   ]
  },
  {
   "cell_type": "markdown",
   "metadata": {},
   "source": [
    "## HSV"
   ]
  },
  {
   "cell_type": "code",
   "execution_count": 143,
   "metadata": {},
   "outputs": [
    {
     "data": {
      "image/png": "[encoded data removed]",
      "text/plain": [
       "<matplotlib.figure.Figure at 0x2858875c390>"
      ]
     },
     "metadata": {},
     "output_type": "display_data"
    }
   ],
   "source": [
    "import matplotlib.pyplot as plt\n",
    "import numpy as np\n",
    "\n",
    "for image in images:\n",
    "    plt.hist(np.histogram(image.convert('HSV'), bins=64))\n",
    "    plt.show()\n",
    "    break;"
   ]
  },
  {
   "cell_type": "code",
   "execution_count": null,
   "metadata": {},
   "outputs": [],
   "source": []
  },
  {
   "cell_type": "code",
   "execution_count": null,
   "metadata": {},
   "outputs": [],
   "source": []
  }
 ],
 "metadata": {
  "kernelspec": {
   "display_name": "Python 3",
   "language": "python",
   "name": "python3"
  },
  "language_info": {
   "codemirror_mode": {
    "name": "ipython",
    "version": 3
   },
   "file_extension": ".py",
   "mimetype": "text/x-python",
   "name": "python",
   "nbconvert_exporter": "python",
   "pygments_lexer": "ipython3",
   "version": "3.6.4"
  }
 },
 "nbformat": 4,
 "nbformat_minor": 2
}
